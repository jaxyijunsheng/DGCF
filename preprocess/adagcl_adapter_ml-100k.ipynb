{
 "cells": [
  {
   "cell_type": "code",
   "execution_count": 3,
   "id": "83a26ca1",
   "metadata": {},
   "outputs": [],
   "source": [
    "import platform\n",
    "import pickle\n",
    "import numpy as np\n",
    "import scipy.sparse as sp"
   ]
  },
  {
   "cell_type": "code",
   "execution_count": 4,
   "id": "6fd158a9",
   "metadata": {},
   "outputs": [],
   "source": [
    "dataset_name='ml-100k'\n",
    "dataset_folder='ml'\n",
    "preflix_folder='24_07_19'"
   ]
  },
  {
   "cell_type": "code",
   "execution_count": 5,
   "id": "dca1f403",
   "metadata": {},
   "outputs": [
    {
     "name": "stdout",
     "output_type": "stream",
     "text": [
      "windows\n"
     ]
    }
   ],
   "source": [
    "if platform.system().lower() == 'windows':\n",
    "    print(\"windows\")\n",
    "    with open('E:/datasets/'+dataset_folder+'/'+dataset_name+'/'+preflix_folder+'/'+dataset_name+'_gcn_train_data_index_from_0.pkl', 'rb') as f:\n",
    "        train_data=pickle.load(f)\n",
    "    with open('E:/datasets/'+dataset_folder+'/'+dataset_name+'/'+preflix_folder+'/'+dataset_name+'_gcn_test_data_index_from_0.pkl', 'rb') as f:\n",
    "        test_data=pickle.load(f)\n",
    "    with open('E:/datasets/'+dataset_folder+'/'+dataset_name+'/'+preflix_folder+'/'+dataset_name+'_gcn_val_data_index_from_0.pkl', 'rb') as f:\n",
    "        val_data=pickle.load(f)\n",
    "elif platform.system().lower() == 'linux':\n",
    "    print(\"linux\")\n",
    "    with open('/root/autodl-nas/workspace/datasets/'+dataset_folder+'/'+dataset_name+'/'+preflix_folder+'/'+dataset_name+'_gcn_train_data.pkl', 'rb') as f:\n",
    "        train_data=pickle.load(f)\n",
    "    with open('/root/autodl-nas/workspace/datasets/'+dataset_folder+'/'+dataset_name+'/'+preflix_folder+'/'+dataset_name+'_gcn_test_data.pkl', 'rb') as f:\n",
    "        test_data=pickle.load(f)\n",
    "    with open('/root/autodl-nas/workspace/datasets/'+dataset_folder+'/'+dataset_name+'/'+preflix_folder+'/'+dataset_name+'_gcn_val_data.pkl', 'rb') as f:\n",
    "        val_data=pickle.load(f)"
   ]
  },
  {
   "cell_type": "code",
   "execution_count": 6,
   "id": "94f67a56",
   "metadata": {},
   "outputs": [
    {
     "name": "stdout",
     "output_type": "stream",
     "text": [
      "(58196,) (16098,) (8166,)\n"
     ]
    }
   ],
   "source": [
    "print(np.shape(train_data['pos_item']),np.shape(test_data['pos_item']),np.shape(val_data['pos_item']))"
   ]
  },
  {
   "cell_type": "code",
   "execution_count": 7,
   "id": "59d62218",
   "metadata": {},
   "outputs": [],
   "source": [
    "def ada(da):\n",
    "    print(max(da['users']), max(da['pos_item']),min(da['users']), min(da['pos_item']))\n",
    "    data = np.ones_like(da['pos_item'])\n",
    "    B = sp.coo_matrix((data, (da['users'], da['pos_item'])), shape=(max(da['users'])+1, max(da['pos_item'])+1))\n",
    "    return B.tocsr().tocoo()"
   ]
  },
  {
   "cell_type": "code",
   "execution_count": 8,
   "id": "245f9bd1",
   "metadata": {},
   "outputs": [
    {
     "name": "stdout",
     "output_type": "stream",
     "text": [
      "942 1522 0 0\n",
      "942 1516 0 0\n",
      "942 1498 0 0\n"
     ]
    }
   ],
   "source": [
    "with open('E:/datasets/'+dataset_folder+'/'+dataset_name+'/'+preflix_folder+'/'+dataset_name+'_adagcl_train_data.pkl', 'wb') as f:\n",
    "        pickle.dump(ada(train_data),f)\n",
    "with open('E:/datasets/'+dataset_folder+'/'+dataset_name+'/'+preflix_folder+'/'+dataset_name+'_adagcl_test_data.pkl', 'wb') as f:\n",
    "        pickle.dump(ada(test_data),f)\n",
    "with open('E:/datasets/'+dataset_folder+'/'+dataset_name+'/'+preflix_folder+'/'+dataset_name+'_adagcl_val_data.pkl', 'wb') as f:\n",
    "        pickle.dump(ada(val_data),f)"
   ]
  },
  {
   "cell_type": "code",
   "execution_count": 9,
   "id": "996980c7",
   "metadata": {},
   "outputs": [
    {
     "name": "stdout",
     "output_type": "stream",
     "text": [
      "(943, 1523)\n",
      "(943, 1517)\n",
      "(943, 1499)\n"
     ]
    }
   ],
   "source": [
    "from scipy.sparse import csr_matrix, coo_matrix, dok_matrix\n",
    "with open('E:/datasets/'+dataset_folder+'/'+dataset_name+'/'+preflix_folder+'/'+dataset_name+'_adagcl_train_data.pkl', 'rb') as f:\n",
    "    ret = (pickle.load(f) != 0).astype(np.float32)\n",
    "    if type(ret) != coo_matrix:\n",
    "        ret = sp.coo_matrix(ret)\n",
    "        print(ret.shape)\n",
    "with open('E:/datasets/'+dataset_folder+'/'+dataset_name+'/'+preflix_folder+'/'+dataset_name+'_adagcl_test_data.pkl', 'rb') as f:\n",
    "    ret = (pickle.load(f) != 0).astype(np.float32)\n",
    "    if type(ret) != coo_matrix:\n",
    "        ret = sp.coo_matrix(ret)\n",
    "        print(ret.shape)\n",
    "with open('E:/datasets/'+dataset_folder+'/'+dataset_name+'/'+preflix_folder+'/'+dataset_name+'_adagcl_val_data.pkl', 'rb') as f:\n",
    "    ret = (pickle.load(f) != 0).astype(np.float32)\n",
    "    if type(ret) != coo_matrix:\n",
    "        ret = sp.coo_matrix(ret)\n",
    "        print(ret.shape)"
   ]
  },
  {
   "cell_type": "code",
   "execution_count": null,
   "id": "6229d81e",
   "metadata": {},
   "outputs": [],
   "source": []
  }
 ],
 "metadata": {
  "kernelspec": {
   "display_name": "Python 3 (ipykernel)",
   "language": "python",
   "name": "python3"
  },
  "language_info": {
   "codemirror_mode": {
    "name": "ipython",
    "version": 3
   },
   "file_extension": ".py",
   "mimetype": "text/x-python",
   "name": "python",
   "nbconvert_exporter": "python",
   "pygments_lexer": "ipython3",
   "version": "3.11.4"
  }
 },
 "nbformat": 4,
 "nbformat_minor": 5
}
