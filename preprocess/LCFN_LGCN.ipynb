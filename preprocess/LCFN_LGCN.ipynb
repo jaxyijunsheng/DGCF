{
 "cells": [
  {
   "cell_type": "code",
   "execution_count": 1,
   "id": "bc041aa1",
   "metadata": {},
   "outputs": [],
   "source": [
    "import scipy.sparse as sp\n",
    "import numpy as np\n",
    "dataset_name='ml-100k'\n",
    "dataset_folder='ml'\n",
    "preflix_folder='24_07_19'\n",
    "#A=sp.load_npz(dataset_name+'/'+dataset_name+'_s_pre_adj_mat.npz')\n",
    "norm_adj = sp.load_npz('/root/autodl-nas/workspace/datasets/'+dataset_folder+'/'+dataset_name+'/'+preflix_folder+'/'+dataset_name+'_s_pre_adj_mat_index_from_0.npz')#D^-1/2*A*D^-1/2\n",
    "L_norm_adj=sp.diags(np.ones(np.shape(norm_adj)[0]))-norm_adj"
   ]
  },
  {
   "cell_type": "code",
   "execution_count": 2,
   "id": "747d00e9",
   "metadata": {},
   "outputs": [],
   "source": [
    "user_num=943"
   ]
  },
  {
   "cell_type": "code",
   "execution_count": 3,
   "id": "584f55cc",
   "metadata": {},
   "outputs": [],
   "source": [
    "FREQUENCY=128\n",
    "import scipy.sparse.linalg\n",
    "[Lamda, graph_embeddings] =sp.linalg.eigsh(L_norm_adj, k = FREQUENCY, which='SM')"
   ]
  },
  {
   "cell_type": "code",
   "execution_count": 4,
   "id": "795fd5f1",
   "metadata": {},
   "outputs": [
    {
     "name": "stdout",
     "output_type": "stream",
     "text": [
      "(2466, 128)\n"
     ]
    }
   ],
   "source": [
    "print(np.shape(graph_embeddings))"
   ]
  },
  {
   "cell_type": "code",
   "execution_count": 5,
   "id": "141245ed",
   "metadata": {},
   "outputs": [],
   "source": [
    "P=sp.csr_matrix(graph_embeddings[:user_num ])\n",
    "Q=sp.csr_matrix(graph_embeddings[user_num :])"
   ]
  },
  {
   "cell_type": "code",
   "execution_count": 6,
   "id": "5e00c30c",
   "metadata": {},
   "outputs": [],
   "source": [
    "sp.save_npz('/root/autodl-nas/workspace/datasets/'+dataset_folder+'/'+dataset_name+'/'+preflix_folder+'/'+dataset_name+'_s_P_mat.npz', P)\n",
    "sp.save_npz('/root/autodl-nas/workspace/datasets/'+dataset_folder+'/'+dataset_name+'/'+preflix_folder+'/'+dataset_name+'_s_Q_mat.npz', Q)"
   ]
  },
  {
   "cell_type": "code",
   "execution_count": 8,
   "id": "0eecdbb3",
   "metadata": {},
   "outputs": [],
   "source": [
    "graph_embeddings=sp.csr_matrix(graph_embeddings)"
   ]
  },
  {
   "cell_type": "code",
   "execution_count": 9,
   "id": "8570051d",
   "metadata": {},
   "outputs": [],
   "source": [
    "sp.save_npz('/root/autodl-nas/workspace/datasets/'+dataset_folder+'/'+dataset_name+'/'+preflix_folder+'/'+dataset_name+'_s_graph_embeddings_mat.npz', graph_embeddings)"
   ]
  },
  {
   "cell_type": "code",
   "execution_count": null,
   "id": "89b8aab6",
   "metadata": {},
   "outputs": [],
   "source": []
  }
 ],
 "metadata": {
  "kernelspec": {
   "display_name": "Python 3 (ipykernel)",
   "language": "python",
   "name": "python3"
  },
  "language_info": {
   "codemirror_mode": {
    "name": "ipython",
    "version": 3
   },
   "file_extension": ".py",
   "mimetype": "text/x-python",
   "name": "python",
   "nbconvert_exporter": "python",
   "pygments_lexer": "ipython3",
   "version": "3.8.10"
  }
 },
 "nbformat": 4,
 "nbformat_minor": 5
}
