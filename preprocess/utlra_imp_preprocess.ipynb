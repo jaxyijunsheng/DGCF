{
 "cells": [
  {
   "cell_type": "code",
   "execution_count": 1,
   "id": "f4269112-04d4-4b43-8219-65910b6ccc23",
   "metadata": {},
   "outputs": [],
   "source": [
    "import pickle\n",
    "import pandas as pd"
   ]
  },
  {
   "cell_type": "code",
   "execution_count": 3,
   "id": "6d4160f4-b33e-4eca-8f20-8638c1dc5df4",
   "metadata": {},
   "outputs": [],
   "source": [
    "def dataframe_to_txt(df, output_file):\n",
    "    with open(output_file, 'w') as f:\n",
    "        for user in df['users'].unique():\n",
    "            items = df[df['users'] == user]['pos_item'].tolist()\n",
    "            f.write(str(user) + ' ' + ' '.join(map(str, items)) + '\\n')"
   ]
  },
  {
   "cell_type": "code",
   "execution_count": null,
   "id": "e491ad7c",
   "metadata": {},
   "outputs": [],
   "source": [
    "dataset_name='ml-100k'\n",
    "dataset_folder='ml'\n",
    "preflix_folder='24_07_19'"
   ]
  },
  {
   "cell_type": "code",
   "execution_count": 4,
   "id": "d9512226",
   "metadata": {},
   "outputs": [],
   "source": [
    "with open('E:/datasets/'+dataset_folder+'/'+dataset_name+'/'+preflix_folder+'/'+dataset_name+'_gcn_train_data_index_from_0.pkl', 'rb') as f:\n",
    "    train_data=pickle.load(f)\n",
    "with open('E:/datasets/'+dataset_folder+'/'+dataset_name+'/'+preflix_folder+'/'+dataset_name+'_gcn_test_data_index_from_0.pkl', 'rb') as f:\n",
    "    test_data=pickle.load(f)\n",
    "with open('E:/datasets/'+dataset_folder+'/'+dataset_name+'/'+preflix_folder+'/'+dataset_name+'_gcn_val_data_index_from_0.pkl', 'rb') as f:\n",
    "    val_data=pickle.load(f)\n",
    "train_set=pd.DataFrame(train_data)\n",
    "test_set=pd.DataFrame(test_data)\n",
    "val_set=pd.DataFrame(val_data)\n",
    "dataframe_to_txt(train_set,dataset_name+'/'+'train_set.txt')\n",
    "dataframe_to_txt(test_set,dataset_name+'/'+'test_set.txt')\n",
    "dataframe_to_txt(val_set,dataset_name+'/'+'val_set.txt')\n",
    "train_set.to_csv(dataset_name+'/'+'train_imp.csv')\n",
    "test_set.to_csv(dataset_name+'/'+'test_imp.csv')\n",
    "val_set.to_csv(dataset_name+'/'+'val_imp.csv')"
   ]
  },
  {
   "cell_type": "code",
   "execution_count": null,
   "id": "6b8a3b15",
   "metadata": {},
   "outputs": [],
   "source": []
  },
  {
   "cell_type": "code",
   "execution_count": 9,
   "id": "042a40cf",
   "metadata": {},
   "outputs": [],
   "source": [
    "dataset_name='ml-1m'\n",
    "dataset_folder='ml'\n",
    "preflix_folder='24_07_17'"
   ]
  },
  {
   "cell_type": "code",
   "execution_count": 10,
   "id": "487d7dc1",
   "metadata": {},
   "outputs": [],
   "source": [
    "with open('E:/datasets/'+dataset_folder+'/'+dataset_name+'/'+preflix_folder+'/'+dataset_name+'_gcn_train_data_index_from_0.pkl', 'rb') as f:\n",
    "    train_data=pickle.load(f)\n",
    "with open('E:/datasets/'+dataset_folder+'/'+dataset_name+'/'+preflix_folder+'/'+dataset_name+'_gcn_test_data_index_from_0.pkl', 'rb') as f:\n",
    "    test_data=pickle.load(f)\n",
    "with open('E:/datasets/'+dataset_folder+'/'+dataset_name+'/'+preflix_folder+'/'+dataset_name+'_gcn_val_data_index_from_0.pkl', 'rb') as f:\n",
    "    val_data=pickle.load(f)\n",
    "train_set=pd.DataFrame(train_data)\n",
    "test_set=pd.DataFrame(test_data)\n",
    "val_set=pd.DataFrame(val_data)\n",
    "dataframe_to_txt(train_set,dataset_name+'/'+'train_set.txt')\n",
    "dataframe_to_txt(test_set,dataset_name+'/'+'test_set.txt')\n",
    "dataframe_to_txt(val_set,dataset_name+'/'+'val_set.txt')\n",
    "train_set.to_csv(dataset_name+'/'+'train_imp.csv')\n",
    "test_set.to_csv(dataset_name+'/'+'test_imp.csv')\n",
    "val_set.to_csv(dataset_name+'/'+'val_imp.csv')"
   ]
  },
  {
   "cell_type": "code",
   "execution_count": null,
   "id": "75f079fd",
   "metadata": {},
   "outputs": [],
   "source": []
  },
  {
   "cell_type": "code",
   "execution_count": 11,
   "id": "dbb8457f",
   "metadata": {},
   "outputs": [],
   "source": [
    "dataset_name='yelp2018'\n",
    "dataset_folder='yelp'\n",
    "preflix_folder='24_07_30'"
   ]
  },
  {
   "cell_type": "code",
   "execution_count": 12,
   "id": "05d06aea",
   "metadata": {},
   "outputs": [],
   "source": [
    "with open('E:/datasets/'+dataset_folder+'/'+dataset_name+'/'+preflix_folder+'/'+dataset_name+'_gcn_train_data_index_from_0.pkl', 'rb') as f:\n",
    "    train_data=pickle.load(f)\n",
    "with open('E:/datasets/'+dataset_folder+'/'+dataset_name+'/'+preflix_folder+'/'+dataset_name+'_gcn_test_data_index_from_0.pkl', 'rb') as f:\n",
    "    test_data=pickle.load(f)\n",
    "with open('E:/datasets/'+dataset_folder+'/'+dataset_name+'/'+preflix_folder+'/'+dataset_name+'_gcn_val_data_index_from_0.pkl', 'rb') as f:\n",
    "    val_data=pickle.load(f)\n",
    "train_set=pd.DataFrame(train_data)\n",
    "test_set=pd.DataFrame(test_data)\n",
    "val_set=pd.DataFrame(val_data)\n",
    "dataframe_to_txt(train_set,dataset_name+'/'+'train_set.txt')\n",
    "dataframe_to_txt(test_set,dataset_name+'/'+'test_set.txt')\n",
    "dataframe_to_txt(val_set,dataset_name+'/'+'val_set.txt')\n",
    "train_set.to_csv(dataset_name+'/'+'train_imp.csv')\n",
    "test_set.to_csv(dataset_name+'/'+'test_imp.csv')\n",
    "val_set.to_csv(dataset_name+'/'+'val_imp.csv')"
   ]
  },
  {
   "cell_type": "code",
   "execution_count": null,
   "id": "0733c0f3",
   "metadata": {},
   "outputs": [],
   "source": []
  },
  {
   "cell_type": "code",
   "execution_count": 13,
   "id": "5c72e64d",
   "metadata": {},
   "outputs": [],
   "source": [
    "dataset_name='gowalla'\n",
    "dataset_folder='gowalla'\n",
    "preflix_folder='24_07_30'"
   ]
  },
  {
   "cell_type": "code",
   "execution_count": 14,
   "id": "960ef18f",
   "metadata": {},
   "outputs": [],
   "source": [
    "with open('E:/datasets/'+dataset_folder+'/'+dataset_name+'/'+preflix_folder+'/'+dataset_name+'_gcn_train_data_index_from_0.pkl', 'rb') as f:\n",
    "    train_data=pickle.load(f)\n",
    "with open('E:/datasets/'+dataset_folder+'/'+dataset_name+'/'+preflix_folder+'/'+dataset_name+'_gcn_test_data_index_from_0.pkl', 'rb') as f:\n",
    "    test_data=pickle.load(f)\n",
    "with open('E:/datasets/'+dataset_folder+'/'+dataset_name+'/'+preflix_folder+'/'+dataset_name+'_gcn_val_data_index_from_0.pkl', 'rb') as f:\n",
    "    val_data=pickle.load(f)\n",
    "train_set=pd.DataFrame(train_data)\n",
    "test_set=pd.DataFrame(test_data)\n",
    "val_set=pd.DataFrame(val_data)\n",
    "dataframe_to_txt(train_set,dataset_name+'/'+'train_set.txt')\n",
    "dataframe_to_txt(test_set,dataset_name+'/'+'test_set.txt')\n",
    "dataframe_to_txt(val_set,dataset_name+'/'+'val_set.txt')\n",
    "train_set.to_csv(dataset_name+'/'+'train_imp.csv')\n",
    "test_set.to_csv(dataset_name+'/'+'test_imp.csv')\n",
    "val_set.to_csv(dataset_name+'/'+'val_imp.csv')"
   ]
  },
  {
   "cell_type": "code",
   "execution_count": null,
   "id": "993f8283",
   "metadata": {},
   "outputs": [],
   "source": []
  },
  {
   "cell_type": "code",
   "execution_count": null,
   "id": "ef7e0ff2",
   "metadata": {},
   "outputs": [],
   "source": []
  }
 ],
 "metadata": {
  "kernelspec": {
   "display_name": "Python 3 (ipykernel)",
   "language": "python",
   "name": "python3"
  },
  "language_info": {
   "codemirror_mode": {
    "name": "ipython",
    "version": 3
   },
   "file_extension": ".py",
   "mimetype": "text/x-python",
   "name": "python",
   "nbconvert_exporter": "python",
   "pygments_lexer": "ipython3",
   "version": "3.11.4"
  }
 },
 "nbformat": 4,
 "nbformat_minor": 5
}
