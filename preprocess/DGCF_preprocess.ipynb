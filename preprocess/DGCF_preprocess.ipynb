{
 "cells": [
  {
   "cell_type": "code",
   "execution_count": 1,
   "id": "774c77bb-62e1-42de-80c5-9b6514aaf103",
   "metadata": {},
   "outputs": [
    {
     "name": "stdout",
     "output_type": "stream",
     "text": [
      "(2466, 2466)\n"
     ]
    }
   ],
   "source": [
    "import scipy.sparse as sp\n",
    "import numpy as np\n",
    "dataset_name='ml-100k'\n",
    "dataset_folder='ml'\n",
    "preflix_folder='24_07_19'\n",
    "#A=sp.load_npz(dataset_name+'/'+dataset_name+'_s_pre_adj_mat.npz')\n",
    "A = sp.load_npz('/root/autodl-nas/workspace/datasets/'+dataset_folder+'/'+dataset_name+'/'+preflix_folder+'/'+dataset_name+'_s_pre_adj_mat_index_from_0.npz')#D^-1/2*A*D^-1/2\n",
    "print(A.shape)"
   ]
  },
  {
   "cell_type": "code",
   "execution_count": 3,
   "id": "59612ccd-42d7-476a-8f23-9662bc6b7186",
   "metadata": {},
   "outputs": [
    {
     "name": "stdout",
     "output_type": "stream",
     "text": [
      "943 1523\n"
     ]
    }
   ],
   "source": [
    "item_num=1523\n",
    "user_num=943\n",
    "print(user_num,item_num)"
   ]
  },
  {
   "cell_type": "code",
   "execution_count": 4,
   "id": "cf5ffc99-6492-4355-91ca-e565c15fb2d8",
   "metadata": {},
   "outputs": [
    {
     "name": "stdout",
     "output_type": "stream",
     "text": [
      "(943, 1523)\n"
     ]
    }
   ],
   "source": [
    "A_tmp=A[:user_num,user_num:]\n",
    "print(A_tmp.shape)"
   ]
  },
  {
   "cell_type": "code",
   "execution_count": 5,
   "id": "dda9612d-823f-4992-9090-9b560a76b969",
   "metadata": {},
   "outputs": [
    {
     "data": {
      "text/plain": [
       "58196"
      ]
     },
     "execution_count": 5,
     "metadata": {},
     "output_type": "execute_result"
    }
   ],
   "source": [
    "np.sum(A_tmp.todense()!=0)"
   ]
  },
  {
   "cell_type": "code",
   "execution_count": 6,
   "id": "647c6dba-4e3b-4c23-8f3b-bb16bfa74ca5",
   "metadata": {},
   "outputs": [
    {
     "name": "stdout",
     "output_type": "stream",
     "text": [
      "0\n",
      "(943, 1523)\n",
      "1\n",
      "(943, 1523)\n"
     ]
    }
   ],
   "source": [
    "num_hop = 3\n",
    "A_tmp = A[:user_num, user_num:]\n",
    "A_final = A[:user_num, user_num:]\n",
    "\n",
    "for i in range(num_hop-1):\n",
    "    print(i)\n",
    "    if i % 2 == 0:\n",
    "        A_tmp = A_tmp.dot(A[:user_num, user_num:].transpose())\n",
    "    else:\n",
    "        A_tmp = A_tmp.dot(A[:user_num, user_num:])\n",
    "        A_final = A_tmp\n",
    "    print(A_final.shape)"
   ]
  },
  {
   "cell_type": "code",
   "execution_count": 7,
   "id": "09a2db8d-7988-4613-97aa-6c6a4aed282e",
   "metadata": {},
   "outputs": [],
   "source": [
    "import numpy as np\n",
    "A_bool=sp.csr_matrix(A_final).astype(bool)"
   ]
  },
  {
   "cell_type": "code",
   "execution_count": 8,
   "id": "7269660a-4c7f-49bd-9da0-86edf3814f6c",
   "metadata": {},
   "outputs": [],
   "source": [
    "unreachable=sp.csr_matrix(~A_bool.todense()).astype(int)"
   ]
  },
  {
   "cell_type": "code",
   "execution_count": 9,
   "id": "7c9ea3b4-b92f-415e-9e36-bf49e189bb19",
   "metadata": {},
   "outputs": [
    {
     "name": "stdout",
     "output_type": "stream",
     "text": [
      "10954\n",
      "(943, 1523)\n"
     ]
    }
   ],
   "source": [
    "print(unreachable.getnnz())\n",
    "print(unreachable.shape)"
   ]
  },
  {
   "cell_type": "code",
   "execution_count": 10,
   "id": "234b6804-1a78-4475-9860-c4c30172aee5",
   "metadata": {},
   "outputs": [],
   "source": [
    "def softmax_non_zero_elements(row):\n",
    "    non_zero_elements = tf.boolean_mask(row, tf.not_equal(row, 0.0))\n",
    "    softmax_non_zero = tf.nn.softmax(non_zero_elements)\n",
    "    softmax_non_zero /= tf.reduce_sum(softmax_non_zero)\n",
    "    # 创建一个与 row 形状相同的张量，填充 softmax 结果\n",
    "    indices = tf.where(tf.not_equal(row, 0.0))\n",
    "    indices = tf.cast(indices, tf.int64)  # 将索引转换为 int64 类型\n",
    "    softmax_non_zero = tf.cast(softmax_non_zero, tf.float64)  # 确保 softmax_non_zero 是 float32 类型\n",
    "    softmax_full_row = tf.scatter_nd(indices, softmax_non_zero, tf.cast(tf.shape(row), tf.int64)) \n",
    "    return softmax_full_row"
   ]
  },
  {
   "cell_type": "code",
   "execution_count": 12,
   "id": "62d1829a-82b7-4844-ac09-e4e40af293eb",
   "metadata": {},
   "outputs": [
    {
     "name": "stdout",
     "output_type": "stream",
     "text": [
      "[[0.         0.         0.         ... 0.         0.         0.        ]\n",
      " [0.         0.         0.         ... 0.         0.         0.        ]\n",
      " [0.         0.         0.         ... 0.         0.         0.        ]\n",
      " ...\n",
      " [0.         0.         0.         ... 0.         0.         0.        ]\n",
      " [0.         0.         0.         ... 0.         0.         0.        ]\n",
      " [0.         0.         0.         ... 0.         0.14285715 0.        ]]\n",
      "(943, 1523)\n",
      "(2, 10954)\n",
      "9062\n",
      "(943, 1523)\n"
     ]
    }
   ],
   "source": [
    "#with probability\n",
    "import tensorflow as tf\n",
    "degree_weight=np.tile(np.array(A[:user_num,user_num:].todense().sum(0))[0],(user_num,1))\n",
    "d_1=np.asarray(unreachable.todense())\n",
    "p=degree_weight*d_1\n",
    "print(p)\n",
    "print(np.shape(p))\n",
    "print(np.shape(np.where(p!=0)))\n",
    "matrix = tf.constant(p,dtype=tf.float64)\n",
    "non_zero_mask = tf.not_equal(matrix, 0.0)\n",
    "non_zero_elements = tf.boolean_mask(matrix, non_zero_mask)\n",
    "\n",
    "\n",
    "# 将softmax后的值放回原向量的位置\n",
    "p = tf.map_fn(softmax_non_zero_elements, matrix)\n",
    "\n",
    "#p=tf.nn.softmax(p)*d_1\n",
    "a=[]\n",
    "for i in range(user_num):\n",
    "    if np.isclose(p[i].numpy().sum(), 1.0):\n",
    "        prob=(p[i].numpy())/ (p[i].numpy().sum())\n",
    "        a.append(np.random.choice(range(item_num), size=50,replace=True,p=prob).tolist())\n",
    "    else:\n",
    "        #print(i,p[i].numpy().sum())\n",
    "        a.append([])\n",
    "d_2=np.zeros_like(d_1)\n",
    "for idx,i in enumerate(a):\n",
    "    for j in i:\n",
    "        d_2[idx,j]=1\n",
    "#a=a%item_num\n",
    "d_2=sp.csr_matrix(d_2)\n",
    "print(d_2.getnnz())\n",
    "print(d_2.shape)"
   ]
  },
  {
   "cell_type": "code",
   "execution_count": 13,
   "id": "9db6204f-87f5-48e5-92c2-31fead4b25e9",
   "metadata": {},
   "outputs": [
    {
     "name": "stdout",
     "output_type": "stream",
     "text": [
      "already create adjacency matrix (2466, 2466)\n"
     ]
    }
   ],
   "source": [
    "R = d_2.tocoo()\n",
    "l_t_zero = sp.coo_matrix((R.shape[0],R.shape[0]), dtype=np.float32)\n",
    "r_b_zero = sp.coo_matrix((R.shape[1],R.shape[1]), dtype=np.float32)\n",
    "r_t_R=R\n",
    "l_b_R=R.T\n",
    "t_adj_mat=sp.hstack([l_t_zero,r_t_R])\n",
    "b_adj_mat=sp.hstack([l_b_R,r_b_zero])\n",
    "adj_mat=sp.vstack([t_adj_mat,b_adj_mat])\n",
    "print('already create adjacency matrix', adj_mat.shape)"
   ]
  },
  {
   "cell_type": "code",
   "execution_count": 14,
   "id": "2bb0c6b4-f790-46dd-b5eb-ed1d93b8ffa6",
   "metadata": {},
   "outputs": [
    {
     "name": "stdout",
     "output_type": "stream",
     "text": [
      "generate pre adjacency matrix.\n"
     ]
    },
    {
     "name": "stderr",
     "output_type": "stream",
     "text": [
      "/tmp/ipykernel_17958/3923550317.py:4: RuntimeWarning: divide by zero encountered in power\n",
      "  d_inv = np.power(rowsum, -0.5).flatten()\n"
     ]
    }
   ],
   "source": [
    "import numpy as np\n",
    "adj_mat=adj_mat\n",
    "rowsum = np.array(adj_mat.sum(1))\n",
    "d_inv = np.power(rowsum, -0.5).flatten()\n",
    "d_inv[np.isinf(d_inv)] = 0.\n",
    "d_inv[np.isnan(d_inv)] = 0.\n",
    "d_mat_inv = sp.diags(d_inv)\n",
    "norm_adj = d_mat_inv.dot(adj_mat)\n",
    "norm_adj = norm_adj.dot(d_mat_inv)\n",
    "print('generate pre adjacency matrix.')\n",
    "L_norm = sp.csr_matrix(sp.eye(user_num+item_num))-norm_adj\n",
    "L_norm=L_norm.tocsr()\n",
    "sp.save_npz('/root/autodl-nas/workspace/datasets/'+dataset_folder+'/'+dataset_name+'/'+preflix_folder+'/'+dataset_name+'_s_l_norm_3_prob_mat.npz', L_norm)"
   ]
  },
  {
   "cell_type": "code",
   "execution_count": null,
   "id": "782d646f-f419-4c30-95a0-9eb89bcb45df",
   "metadata": {},
   "outputs": [],
   "source": []
  },
  {
   "cell_type": "code",
   "execution_count": null,
   "id": "49ecd9e3-bfd4-4b84-9ac0-b5cc230b8b87",
   "metadata": {},
   "outputs": [],
   "source": [
    "#topk\n",
    "import tensorflow as tf\n",
    "degree_weight=np.tile(np.array(A[:user_num,user_num:].todense().sum(0))[0],(user_num,1))\n",
    "d_1=np.asarray(unreachable.todense())\n",
    "p=degree_weight*d_1\n",
    "need_mask_list=np.argsort(p)[:,-50:][0].tolist()\n",
    "mask=np.zeros_like(p)\n",
    "for i in range(p.shape[1]):\n",
    "    if i in need_mask_list:\n",
    "        mask[:,i]=1\n",
    "p=mask*p\n",
    "print(np.shape(p))\n",
    "print(np.shape(np.where(p!=0)))\n",
    "d_2=sp.csr_matrix(mask)"
   ]
  },
  {
   "cell_type": "code",
   "execution_count": null,
   "id": "02f8cdb3-b21f-407c-9cab-6efa488add5a",
   "metadata": {},
   "outputs": [],
   "source": [
    "R = d_2.tocoo()\n",
    "l_t_zero = sp.coo_matrix((R.shape[0],R.shape[0]), dtype=np.float32)\n",
    "r_b_zero = sp.coo_matrix((R.shape[1],R.shape[1]), dtype=np.float32)\n",
    "r_t_R=R\n",
    "l_b_R=R.T\n",
    "t_adj_mat=sp.hstack([l_t_zero,r_t_R])\n",
    "b_adj_mat=sp.hstack([l_b_R,r_b_zero])\n",
    "adj_mat=sp.vstack([t_adj_mat,b_adj_mat])\n",
    "print('already create adjacency matrix', adj_mat.shape)"
   ]
  },
  {
   "cell_type": "code",
   "execution_count": null,
   "id": "fc5c5878-0090-4cf3-a4a3-3ebe17257eb6",
   "metadata": {},
   "outputs": [],
   "source": [
    "import numpy as np\n",
    "adj_mat=adj_mat\n",
    "rowsum = np.array(adj_mat.sum(1))\n",
    "d_inv = np.power(rowsum, -0.5).flatten()\n",
    "d_inv[np.isinf(d_inv)] = 0.\n",
    "d_inv[np.isnan(d_inv)] = 0.\n",
    "d_mat_inv = sp.diags(d_inv)\n",
    "norm_adj = d_mat_inv.dot(adj_mat)\n",
    "norm_adj = norm_adj.dot(d_mat_inv)\n",
    "print('generate pre adjacency matrix.')\n",
    "L_norm = sp.csr_matrix(sp.eye(user_num+item_num))-norm_adj\n",
    "L_norm=L_norm.tocsr()\n",
    "sp.save_npz('/root/autodl-nas/workspace/datasets/ml/'+dataset_name+'/'+date+'_gcn/' +dataset_name+'_s_l_norm_'+str(num_hop)+'_topk_mat.npz', L_norm)"
   ]
  },
  {
   "cell_type": "code",
   "execution_count": 135,
   "id": "e0589642-3307-4f7e-9460-a492a5b6161c",
   "metadata": {},
   "outputs": [
    {
     "name": "stdout",
     "output_type": "stream",
     "text": [
      "  (0, 0)\t1.0\n",
      "  (0, 1187)\t-0.024999999999999998\n",
      "  (0, 1280)\t-0.06454972243679027\n",
      "  (0, 1335)\t-0.024999999999999998\n",
      "  (0, 1489)\t-0.024999999999999998\n",
      "  (0, 1525)\t-0.024999999999999998\n",
      "  (0, 1595)\t-0.024999999999999998\n",
      "  (0, 1596)\t-0.024999999999999998\n",
      "  (0, 1653)\t-0.024999999999999998\n",
      "  (0, 1721)\t-0.024999999999999998\n",
      "  (0, 1727)\t-0.024999999999999998\n",
      "  (0, 1806)\t-0.07905694150420949\n",
      "  (0, 1824)\t-0.024999999999999998\n",
      "  (0, 1826)\t-0.024999999999999998\n",
      "  (0, 1829)\t-0.05590169943749474\n",
      "  (0, 1887)\t-0.024999999999999998\n",
      "  (0, 1894)\t-0.024999999999999998\n",
      "  (0, 1907)\t-0.024999999999999998\n",
      "  (0, 1911)\t-0.024999999999999998\n",
      "  (0, 1913)\t-0.024999999999999998\n",
      "  (0, 1936)\t-0.024999999999999998\n",
      "  (0, 1986)\t-0.024999999999999998\n",
      "  (0, 1989)\t-0.024999999999999998\n",
      "  (0, 2010)\t-0.024999999999999998\n",
      "  (0, 2012)\t-0.07905694150420949\n",
      "  :\t:\n",
      "  (2371, 15)\t-0.02867696673382022\n",
      "  (2371, 16)\t-0.023918243661746996\n",
      "  (2371, 17)\t-0.028239124736245253\n",
      "  (2371, 18)\t-0.02366242621401505\n",
      "  (2371, 2371)\t1.0\n",
      "  (2372, 0)\t-0.025649458802128853\n",
      "  (2372, 1)\t-0.028027592733560525\n",
      "  (2372, 2)\t-0.022075539284417398\n",
      "  (2372, 3)\t-0.026144349280800106\n",
      "  (2372, 4)\t-0.02473853479976467\n",
      "  (2372, 5)\t-0.02867696673382022\n",
      "  (2372, 6)\t-0.02867696673382022\n",
      "  (2372, 7)\t-0.028027592733560525\n",
      "  (2372, 8)\t-0.026490647141300876\n",
      "  (2372, 9)\t-0.02913582733740325\n",
      "  (2372, 10)\t-0.029617443887954623\n",
      "  (2372, 11)\t-0.026851080677052736\n",
      "  (2372, 12)\t-0.02845551966122361\n",
      "  (2372, 13)\t-0.028903665650804003\n",
      "  (2372, 14)\t-0.02722663850586651\n",
      "  (2372, 15)\t-0.02867696673382022\n",
      "  (2372, 16)\t-0.023918243661746996\n",
      "  (2372, 17)\t-0.028239124736245253\n",
      "  (2372, 18)\t-0.02366242621401505\n",
      "  (2372, 2372)\t1.0\n"
     ]
    }
   ],
   "source": [
    "print(sp.load_npz('E:/datasets/ml/ml-100k/'+date+'_gcn/' + dataset_name+'_s_l_norm_top_mat.npz'))#I-D^-1/2*A*D^-1/2"
   ]
  },
  {
   "cell_type": "code",
   "execution_count": 51,
   "id": "30aae4c7-491d-436e-95ae-a00fe6a3b810",
   "metadata": {},
   "outputs": [
    {
     "name": "stdout",
     "output_type": "stream",
     "text": [
      "  (0, 0)\t1.0\n",
      "  (0, 1187)\t-0.024999999999999998\n",
      "  (0, 1280)\t-0.06454972243679027\n",
      "  (0, 1335)\t-0.024999999999999998\n",
      "  (0, 1489)\t-0.024999999999999998\n",
      "  (0, 1525)\t-0.024999999999999998\n",
      "  (0, 1595)\t-0.024999999999999998\n",
      "  (0, 1596)\t-0.024999999999999998\n",
      "  (0, 1653)\t-0.024999999999999998\n",
      "  (0, 1721)\t-0.024999999999999998\n",
      "  (0, 1727)\t-0.024999999999999998\n",
      "  (0, 1806)\t-0.07905694150420949\n",
      "  (0, 1824)\t-0.024999999999999998\n",
      "  (0, 1826)\t-0.024999999999999998\n",
      "  (0, 1829)\t-0.05590169943749474\n",
      "  (0, 1887)\t-0.024999999999999998\n",
      "  (0, 1894)\t-0.024999999999999998\n",
      "  (0, 1907)\t-0.024999999999999998\n",
      "  (0, 1911)\t-0.024999999999999998\n",
      "  (0, 1913)\t-0.024999999999999998\n",
      "  (0, 1936)\t-0.024999999999999998\n",
      "  (0, 1986)\t-0.024999999999999998\n",
      "  (0, 1989)\t-0.024999999999999998\n",
      "  (0, 2010)\t-0.024999999999999998\n",
      "  (0, 2012)\t-0.07905694150420949\n",
      "  :\t:\n",
      "  (2371, 15)\t-0.02867696673382022\n",
      "  (2371, 16)\t-0.023918243661746996\n",
      "  (2371, 17)\t-0.028239124736245253\n",
      "  (2371, 18)\t-0.02366242621401505\n",
      "  (2371, 2371)\t1.0\n",
      "  (2372, 0)\t-0.025649458802128853\n",
      "  (2372, 1)\t-0.028027592733560525\n",
      "  (2372, 2)\t-0.022075539284417398\n",
      "  (2372, 3)\t-0.026144349280800106\n",
      "  (2372, 4)\t-0.02473853479976467\n",
      "  (2372, 5)\t-0.02867696673382022\n",
      "  (2372, 6)\t-0.02867696673382022\n",
      "  (2372, 7)\t-0.028027592733560525\n",
      "  (2372, 8)\t-0.026490647141300876\n",
      "  (2372, 9)\t-0.02913582733740325\n",
      "  (2372, 10)\t-0.029617443887954623\n",
      "  (2372, 11)\t-0.026851080677052736\n",
      "  (2372, 12)\t-0.02845551966122361\n",
      "  (2372, 13)\t-0.028903665650804003\n",
      "  (2372, 14)\t-0.02722663850586651\n",
      "  (2372, 15)\t-0.02867696673382022\n",
      "  (2372, 16)\t-0.023918243661746996\n",
      "  (2372, 17)\t-0.028239124736245253\n",
      "  (2372, 18)\t-0.02366242621401505\n",
      "  (2372, 2372)\t1.0\n"
     ]
    }
   ],
   "source": [
    "print(sp.load_npz('E:/datasets/ml/ml-100k/'+date+'_gcn/' + dataset_name+'_s_l_norm_sample_mat.npz'))#I-D^-1/2*A*D^-1/2"
   ]
  },
  {
   "cell_type": "code",
   "execution_count": 60,
   "id": "77f4d685-e58b-4cf0-aee8-26b0ba9853a4",
   "metadata": {},
   "outputs": [
    {
     "ename": "SyntaxError",
     "evalue": "unexpected EOF while parsing (1616222797.py, line 1)",
     "output_type": "error",
     "traceback": [
      "\u001b[1;36m  File \u001b[1;32m\"C:\\Users\\Zhouziyue\\AppData\\Local\\Temp\\ipykernel_31280\\1616222797.py\"\u001b[1;36m, line \u001b[1;32m1\u001b[0m\n\u001b[1;33m    (print(sp.load_npz('E:/datasets/ml/ml-100k/'+date+'_gcn/' + dataset_name+'_s_l_norm_sample_mat.npz')==sp.load_npz('E:/datasets/ml/ml-100k/'+date+'_gcn/' + dataset_name+'_s_l_norm_top_mat.npz'))==True\u001b[0m\n\u001b[1;37m                                                                                                                                                                                                           ^\u001b[0m\n\u001b[1;31mSyntaxError\u001b[0m\u001b[1;31m:\u001b[0m unexpected EOF while parsing\n"
     ]
    }
   ],
   "source": []
  },
  {
   "cell_type": "code",
   "execution_count": null,
   "id": "0a4eb410-8d08-441d-a5e5-519e7fbf46ae",
   "metadata": {},
   "outputs": [],
   "source": []
  }
 ],
 "metadata": {
  "kernelspec": {
   "display_name": "Python 3 (ipykernel)",
   "language": "python",
   "name": "python3"
  },
  "language_info": {
   "codemirror_mode": {
    "name": "ipython",
    "version": 3
   },
   "file_extension": ".py",
   "mimetype": "text/x-python",
   "name": "python",
   "nbconvert_exporter": "python",
   "pygments_lexer": "ipython3",
   "version": "3.8.10"
  }
 },
 "nbformat": 4,
 "nbformat_minor": 5
}
